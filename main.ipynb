{
 "cells": [
  {
   "cell_type": "code",
   "execution_count": 1,
   "id": "b6f036ab-f3f6-4025-b267-5f42f27f0fbe",
   "metadata": {},
   "outputs": [],
   "source": [
    "from PIL import Image, ImageDraw, ImageOps, ImageEnhance\n",
    "import numpy as np\n",
    "import matplotlib.pyplot as plt\n",
    "%matplotlib inline\n",
    "from scipy.interpolate import make_interp_spline\n",
    "from matplotlib import colors\n",
    "import os\n",
    "import io"
   ]
  },
  {
   "cell_type": "code",
   "execution_count": 28,
   "id": "692d9b16-fd98-41ae-9a97-1595a164edec",
   "metadata": {},
   "outputs": [],
   "source": [
    "source = Image.open('input/frog.png')\n",
    "secret = Image.open('input/field.jpg')"
   ]
  },
  {
   "cell_type": "code",
   "execution_count": 54,
   "id": "a2fdd252-69d6-4439-baa9-b8bec1d96e7e",
   "metadata": {},
   "outputs": [],
   "source": [
    "source_ratio = source.size[0] / source.size[1]\n",
    "secret_ratio = secret.size[0] / secret.size[1]\n",
    "\n",
    "if secret_ratio > source_ratio:\n",
    "    secret = secret.resize((int(source.size[1] * secret_ratio),\n",
    "                           source.size[1]))\n",
    "    crop_x = round(secret.size[0] / 2 - source.size[0] / 2)\n",
    "    secret = secret.crop((crop_x, \n",
    "                          0, \n",
    "                          crop_x + source.size[0], \n",
    "                          secret.size[1]))\n",
    "else:\n",
    "    secret = secret.resize((source.size[0], \n",
    "                            int(source.size[0] / secret_ratio)))\n",
    "    crop_y = round(secret.size[1] / 2 - source.size[1] / 2)\n",
    "    secret = secret.crop((0,\n",
    "                          crop_y, \n",
    "                          secret.size[0], \n",
    "                          crop_y + source.size[1]))"
   ]
  },
  {
   "cell_type": "code",
   "execution_count": null,
   "id": "b9c8f3e7-273b-4017-b584-e59a7e871759",
   "metadata": {},
   "outputs": [],
   "source": []
  }
 ],
 "metadata": {
  "kernelspec": {
   "display_name": "Python 3 (ipykernel)",
   "language": "python",
   "name": "python3"
  },
  "language_info": {
   "codemirror_mode": {
    "name": "ipython",
    "version": 3
   },
   "file_extension": ".py",
   "mimetype": "text/x-python",
   "name": "python",
   "nbconvert_exporter": "python",
   "pygments_lexer": "ipython3",
   "version": "3.12.1"
  }
 },
 "nbformat": 4,
 "nbformat_minor": 5
}
